{
 "cells": [
  {
   "cell_type": "code",
   "execution_count": 1,
   "metadata": {
    "collapsed": true
   },
   "outputs": [],
   "source": [
    "from selenium import webdriver\n",
    "import time\n",
    "import re\n",
    "from selenium.webdriver.common.keys import Keys\n",
    "from bs4 import BeautifulSoup\n",
    "from selenium.webdriver.common.by import By\n",
    "from selenium.webdriver.support.ui import WebDriverWait\n",
    "from selenium.webdriver.support import expected_conditions as EC"
   ]
  },
  {
   "cell_type": "code",
   "execution_count": 2,
   "metadata": {
    "collapsed": true
   },
   "outputs": [],
   "source": [
    "host = 'https://trends.google.com.tw/trends/hottrends#pn=p12'\n",
    "chrome_path=\"C:\\Program Files (x86)\\Google\\Chrome\\Application\\chromedriver.exe\"#告訴webdriver chrome位置，這樣可以執行瀏覽器\n",
    "browser = webdriver.Chrome(chrome_path)#開起瀏覽器\n",
    "browser.get(host)#連結到想要的網址"
   ]
  },
  {
   "cell_type": "code",
   "execution_count": null,
   "metadata": {
    "collapsed": true,
    "scrolled": true
   },
   "outputs": [],
   "source": [
    "count = 1 \n",
    "while count < 2310 :#因為google trends是下拉式網頁，原本預想說可以利用環圈重複執行下拉的動作直到網頁載入我們所想要的年份\n",
    "                    #，結果google有限制，不給拉太多頁，所以GG\n",
    "    try:\n",
    "        browser.find_element_by_tag_name('body').send_keys(Keys.END)#執行下拉\n",
    "        time.sleep(5)\n",
    "        browser.find_element_by_class_name('more-link').click()#點擊加載\n",
    "        time.sleep(15)\n",
    "        count+=1\n",
    "        element = WebDriverWait(browser, 10).until(EC.presence_of_element_located((By.CLASS, \"more-link\")))#下這行會讓pythin知道當\n",
    "                                                  #加載還沒家載好時不要執行下拉跟點擊的動作 \n",
    "    except:\n",
    "        continue"
   ]
  },
  {
   "cell_type": "code",
   "execution_count": null,
   "metadata": {
    "collapsed": true
   },
   "outputs": [],
   "source": [
    "soup = BeautifulSoup(browser.page_source, 'lxml')#呼叫當頁的HTML"
   ]
  },
  {
   "cell_type": "code",
   "execution_count": null,
   "metadata": {
    "collapsed": true,
    "scrolled": true
   },
   "outputs": [],
   "source": [
    "text = soup.select('div.hottrends-trends-list-container')#抓到整個內文內容"
   ]
  },
  {
   "cell_type": "code",
   "execution_count": null,
   "metadata": {
    "collapsed": true,
    "scrolled": true
   },
   "outputs": [],
   "source": [
    "with open('GoogleTrends.csv','w',newline = '') as f:\n",
    "    for i in range(0,len(text)):\n",
    "        content = text[i]#每當頁面加載完後新的內容會被包在div.hottrends-trends-list-container加進來\n",
    "        for k in range(0,len(content)): \n",
    "            date = content.select('div.hottrends-trends-list-date-header')[k].text#將日期抓出來\n",
    "            outside = content.select('div.hottrends-trends-list-date-container')[k]#當日排名的內容\n",
    "            for j in range(0,(len(outside)-1)):\n",
    "                datas=[]\n",
    "                inside = outside.select('div > div.hottrends-single-trend-container')[j]#將排名的內容個別抓出\n",
    "                rank =  inside.select('span')[0].text\n",
    "                title = inside.select('span')[2].text\n",
    "                times = inside.select('span.hottrends-single-trend-info-line-number')[0].text\n",
    "                web = inside.select('a')[0]['href']\n",
    "                try:#因為相關搜索不一定每個都有，故在此做例外處理\n",
    "                    related = inside.select('span.hottrends-single-trend-related-searches-list')[0].text\n",
    "                    data = date,rank,title,times,web,related\n",
    "                    print(data)\n",
    "                    datas.append(data)\n",
    "                    csv.writer(f).writerows(datas)\n",
    "                    #w.writerows(datas)\n",
    "                except:\n",
    "                    null = 'NULL'\n",
    "                    data = date,rank,title,times,web,null\n",
    "                    print(data)\n",
    "                    datas.append(data)\n",
    "                    csv.writer(f).writerows(datas)\n",
    "                    #w.writerows(datas)\n",
    "                    continue              "
   ]
  },
  {
   "cell_type": "code",
   "execution_count": null,
   "metadata": {
    "collapsed": true
   },
   "outputs": [],
   "source": []
  }
 ],
 "metadata": {
  "kernelspec": {
   "display_name": "Python 3",
   "language": "python",
   "name": "python3"
  },
  "language_info": {
   "codemirror_mode": {
    "name": "ipython",
    "version": 3
   },
   "file_extension": ".py",
   "mimetype": "text/x-python",
   "name": "python",
   "nbconvert_exporter": "python",
   "pygments_lexer": "ipython3",
   "version": "3.6.1"
  }
 },
 "nbformat": 4,
 "nbformat_minor": 2
}
